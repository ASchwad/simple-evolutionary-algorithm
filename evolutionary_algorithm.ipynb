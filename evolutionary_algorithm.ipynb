{
 "cells": [
  {
   "cell_type": "code",
   "execution_count": 477,
   "metadata": {
    "collapsed": true
   },
   "outputs": [],
   "source": [
    "from random import *\n",
    "import numpy as np"
   ]
  },
  {
   "cell_type": "code",
   "execution_count": 478,
   "metadata": {},
   "outputs": [],
   "source": [
    "def generatePopulation(popSize):\n",
    "    #Generates population with chromosomes with 6 random numbers between 1 and 6 each\n",
    "    population = []\n",
    "    for i in range(popSize):\n",
    "        gene = []\n",
    "        for x in range(6):\n",
    "            gene.append(randint(1,6))\n",
    "        population.append(gene)\n",
    "    return population"
   ]
  },
  {
   "cell_type": "code",
   "execution_count": 479,
   "metadata": {
    "collapsed": true
   },
   "outputs": [],
   "source": [
    "def evaluateFitness(population):\n",
    "    fitness = [0] * len(population)\n",
    "    goal = [1,2,3,4,5,6]\n",
    "    counter = 0\n",
    "    #foreach correct position\n",
    "    for i in population:\n",
    "        for index in range(6):\n",
    "            if i[index] == goal[index]:\n",
    "                fitness[counter] += 1\n",
    "    return fitness"
   ]
  },
  {
   "cell_type": "code",
   "execution_count": 480,
   "metadata": {},
   "outputs": [],
   "source": [
    "def evaluateFitness(population):\n",
    "    fitness = [0] * len(population)\n",
    "    counter = 0\n",
    "    for i in population:\n",
    "        if(i[0]==1):\n",
    "            fitness[counter] += 1\n",
    "        if(i[1]==2):\n",
    "            fitness[counter] += 1\n",
    "        if(i[2]==3):\n",
    "            fitness[counter] += 1\n",
    "        if(i[3]==4):\n",
    "            fitness[counter] += 1\n",
    "        if(i[4]==5):\n",
    "            fitness[counter] += 1\n",
    "        if(i[5]==6):\n",
    "            fitness[counter] += 1\n",
    "        counter += 1\n",
    "    return fitness"
   ]
  },
  {
   "cell_type": "code",
   "execution_count": 481,
   "metadata": {},
   "outputs": [],
   "source": [
    "def breedChilds(population):\n",
    "    new_population = []\n",
    "    fitness = evaluateFitness(population)\n",
    "    while(len(population)>1):\n",
    "        #choose two best parents, remove them from the list, breed and reiterate      \n",
    "        chromosome1 = population.pop(np.argmax(fitness))\n",
    "        fitness.pop(np.argmax(fitness))\n",
    "        chromosome2 = population.pop(np.argmax(fitness))\n",
    "        fitness.pop(np.argmax(fitness))\n",
    "        #breed\n",
    "        child1, child2 = crossover(chromosome1, chromosome2)\n",
    "        new_population.append(child1)\n",
    "        new_population.append(child2)\n",
    "    return new_population"
   ]
  },
  {
   "cell_type": "code",
   "execution_count": 482,
   "metadata": {},
   "outputs": [],
   "source": [
    "def crossover(gene1,gene2):\n",
    "    crossoverPoint = randint(0,len(gene1)-1)\n",
    "    #print(\"Old Genes:\")\n",
    "    #print(gene1)\n",
    "    #print(gene2)\n",
    "    gene1_new = gene1[0:crossoverPoint] + gene2[crossoverPoint:len(gene2)]\n",
    "    gene2_new = gene2[0:crossoverPoint] + gene1[crossoverPoint:len(gene1)] \n",
    "    #print(\"New genes:\")\n",
    "    #print(gene1_new)\n",
    "    #print(gene2_new)\n",
    "    return(gene1_new, gene2_new)"
   ]
  },
  {
   "cell_type": "code",
   "execution_count": 483,
   "metadata": {},
   "outputs": [],
   "source": [
    "def mutate(gene, chance):\n",
    "    if(randint(0,99)<=chance):\n",
    "        mutationPosition = randint(0,len(gene)-1)\n",
    "        gene[mutationPosition] = randint(1,len(gene)-1)\n",
    "        #print(\"Mutation happened\")\n",
    "        #print(gene)\n",
    "    return(gene)"
   ]
  },
  {
   "cell_type": "code",
   "execution_count": 496,
   "metadata": {},
   "outputs": [
    {
     "name": "stdout",
     "output_type": "stream",
     "text": [
      "Generation: 2\n",
      "Generation: 3\n",
      "Generation: 4\n",
      "Generation: 5\n",
      "Generation: 6\n",
      "Generation: 7\n",
      "Generation: 8\n",
      "Generation: 9\n",
      "Generation: 10\n",
      "Generation: 11\n",
      "Generation: 12\n",
      "Generation: 13\n",
      "EA successfull!\n",
      "Index: 3 was successfull.\n",
      "[1, 2, 3, 4, 5, 6]\n"
     ]
    }
   ],
   "source": [
    "#Create population\n",
    "population = generatePopulation(50)\n",
    "#evaluate fitness\n",
    "generations = 1\n",
    "max_gens = 200\n",
    "while(max(evaluateFitness(population))<6 and generations < max_gens):\n",
    "    population = breedChilds(population)\n",
    "    #mutate with 5 percent chance of mutation\n",
    "    for chromosome in population:\n",
    "        mutate(chromosome, 1)\n",
    "    generations += 1\n",
    "    print(\"Generation: \" + str(generations))\n",
    "if(generations==max_gens):\n",
    "    print(\"Cancel conditions met\")\n",
    "if(max(evaluateFitness(population))==6):\n",
    "    print(\"EA successfull!\")\n",
    "    fitness = evaluateFitness(population)\n",
    "    print(\"Index: \" + str(np.argmax(fitness)) + \" was successfull.\")\n",
    "    print(population[np.argmax(fitness)])"
   ]
  },
  {
   "cell_type": "code",
   "execution_count": null,
   "metadata": {
    "collapsed": true
   },
   "outputs": [],
   "source": []
  }
 ],
 "metadata": {
  "kernelspec": {
   "display_name": "Python 3",
   "language": "python",
   "name": "python3"
  },
  "language_info": {
   "codemirror_mode": {
    "name": "ipython",
    "version": 3
   },
   "file_extension": ".py",
   "mimetype": "text/x-python",
   "name": "python",
   "nbconvert_exporter": "python",
   "pygments_lexer": "ipython3",
   "version": "3.6.3"
  }
 },
 "nbformat": 4,
 "nbformat_minor": 2
}
